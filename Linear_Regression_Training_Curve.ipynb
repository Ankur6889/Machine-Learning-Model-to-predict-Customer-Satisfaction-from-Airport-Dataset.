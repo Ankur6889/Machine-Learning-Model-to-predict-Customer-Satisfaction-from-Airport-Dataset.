{
 "cells": [
  {
   "cell_type": "markdown",
   "id": "67fb8c15",
   "metadata": {},
   "source": [
    " ##### Importing Required Libraries "
   ]
  },
  {
   "cell_type": "code",
   "execution_count": 5,
   "id": "c9e194be",
   "metadata": {},
   "outputs": [],
   "source": [
    "import pandas as pd\n",
    "from sklearn.linear_model import LinearRegression\n",
    "from sklearn.ensemble import RandomForestRegressor\n",
    "from sklearn.model_selection import learning_curve\n",
    "import matplotlib.pyplot as plt"
   ]
  },
  {
   "cell_type": "markdown",
   "id": "b5a665dd",
   "metadata": {},
   "source": [
    "##### Importing the dataset in a variable and defining training sizes"
   ]
  },
  {
   "cell_type": "code",
   "execution_count": 6,
   "id": "f66b87be",
   "metadata": {},
   "outputs": [],
   "source": [
    "linear_regression = pd.read_csv('Training_curve_data.csv')\n",
    "\n",
    "train_sizes=[1,50,500,750,1000,1500,2000,2500]"
   ]
  },
  {
   "cell_type": "markdown",
   "id": "9fb05424",
   "metadata": {},
   "source": [
    "##### Defining features and target variable "
   ]
  },
  {
   "cell_type": "code",
   "execution_count": 7,
   "id": "4a2f27b8",
   "metadata": {},
   "outputs": [],
   "source": [
    "features=['PC1','PC2','PC3','PC4','PC5','PC6','PC7','PC8','PC9','PC10','PC11','PC12','PC13','PC14','PC15','PC16','PC17','PC18','PC19']\n",
    "target = 'Overall satisfaction'"
   ]
  },
  {
   "cell_type": "markdown",
   "id": "b11d848c",
   "metadata": {},
   "source": [
    "#### Selecting the Model for running the learning curve"
   ]
  },
  {
   "cell_type": "code",
   "execution_count": 8,
   "id": "18e5d3fa",
   "metadata": {},
   "outputs": [],
   "source": [
    "train_sizes,train_scores,validation_scores=learning_curve(\n",
    "estimator=LinearRegression(),\n",
    "X=linear_regression[features],\n",
    "y=linear_regression[target],train_sizes=train_sizes,cv=5,\n",
    "scoring='neg_mean_squared_error')"
   ]
  },
  {
   "cell_type": "markdown",
   "id": "0037059b",
   "metadata": {},
   "source": [
    "#### In order to see what learning curve returns "
   ]
  },
  {
   "cell_type": "code",
   "execution_count": 9,
   "id": "d903374f",
   "metadata": {},
   "outputs": [
    {
     "name": "stdout",
     "output_type": "stream",
     "text": [
      "Training scores:\n",
      "\n",
      " [[-0.         -0.         -0.         -0.         -0.        ]\n",
      " [-0.01886958 -0.00019157 -0.00019157 -0.00019157 -0.00019157]\n",
      " [-0.02752375 -0.00640956 -0.00640956 -0.00640956 -0.00640956]\n",
      " [-0.02905194 -0.00689933 -0.00971102 -0.00971102 -0.00971102]\n",
      " [-0.02938951 -0.01444757 -0.01585753 -0.01585753 -0.01585753]\n",
      " [-0.02890405 -0.02041536 -0.02208906 -0.02187388 -0.02187388]\n",
      " [-0.03361501 -0.03063513 -0.03089295 -0.02410155 -0.02410155]\n",
      " [-0.03459784 -0.0332329  -0.03359424 -0.03074971 -0.02711473]]\n",
      "\n",
      " ____________________________________________________________________________________________________________________________________________\n",
      "\n",
      " Validation scores:\n",
      "\n",
      " [[-0.01479821 -0.18038126 -0.1714669  -0.45626686 -0.7752001 ]\n",
      " [-0.0743834  -0.20696696 -0.15948491 -0.42234253 -0.61245629]\n",
      " [-0.01963828 -0.07305733 -0.05765628 -0.20082594 -0.33845791]\n",
      " [-0.01785566 -0.06525632 -0.04331904 -0.15674122 -0.28564743]\n",
      " [-0.01659787 -0.04442126 -0.03255398 -0.09542444 -0.16825088]\n",
      " [-0.01629562 -0.03508646 -0.02995154 -0.07793591 -0.13128945]\n",
      " [-0.02703562 -0.0313608  -0.03084285 -0.07588027 -0.12759733]\n",
      " [-0.03215171 -0.032963   -0.03142396 -0.04342963 -0.09304627]]\n"
     ]
    }
   ],
   "source": [
    "print('Training scores:\\n\\n', train_scores)\n",
    "print('\\n', '__' * 70) \n",
    "print('\\n Validation scores:\\n\\n', validation_scores)"
   ]
  },
  {
   "cell_type": "markdown",
   "id": "41a50596",
   "metadata": {},
   "source": [
    "#### Taking the mean value of each row and also flip the signs of the error scores"
   ]
  },
  {
   "cell_type": "code",
   "execution_count": 10,
   "id": "460fd447",
   "metadata": {},
   "outputs": [
    {
     "name": "stdout",
     "output_type": "stream",
     "text": [
      "Mean training scores\n",
      "\n",
      " 1      -0.000000\n",
      "50      0.003927\n",
      "500     0.010632\n",
      "750     0.013017\n",
      "1000    0.018282\n",
      "1500    0.023031\n",
      "2000    0.028669\n",
      "2500    0.031858\n",
      "dtype: float64\n",
      "\n",
      " --------------------\n",
      "\n",
      "Mean validation scores\n",
      "\n",
      " 1       0.319623\n",
      "50      0.295127\n",
      "500     0.137927\n",
      "750     0.113764\n",
      "1000    0.071450\n",
      "1500    0.058112\n",
      "2000    0.058543\n",
      "2500    0.046603\n",
      "dtype: float64\n"
     ]
    }
   ],
   "source": [
    "train_scores_mean = -train_scores.mean(axis = 1)\n",
    "validation_scores_mean = -validation_scores.mean(axis = 1)\n",
    "print('Mean training scores\\n\\n', pd.Series(train_scores_mean, index = train_sizes))\n",
    "print('\\n', '-' * 20)\n",
    "print('\\nMean validation scores\\n\\n',pd.Series(validation_scores_mean, index = train_sizes))"
   ]
  },
  {
   "cell_type": "markdown",
   "id": "9cd6ce3d",
   "metadata": {},
   "source": [
    "#### Plotting the learning curves using a regular matplotlib workflow"
   ]
  },
  {
   "cell_type": "code",
   "execution_count": 12,
   "id": "5fa78b4d",
   "metadata": {},
   "outputs": [
    {
     "data": {
      "text/plain": [
       "<matplotlib.legend.Legend at 0x1bdcc37b760>"
      ]
     },
     "execution_count": 12,
     "metadata": {},
     "output_type": "execute_result"
    },
    {
     "data": {
      "image/png": "[encoded data removed]",
      "text/plain": [
       "<Figure size 576x396 with 1 Axes>"
      ]
     },
     "metadata": {},
     "output_type": "display_data"
    }
   ],
   "source": [
    "plt.style.use('seaborn')\n",
    "plt.plot(train_sizes, train_scores_mean, label = 'Training error')\n",
    "plt.plot(train_sizes, validation_scores_mean, label = 'Validation error')\n",
    "plt.ylabel('MSE', fontsize = 20)\n",
    "plt.xlabel('Training set size', fontsize = 20)\n",
    "plt.title('Learning curves for a Linear regression model', fontsize = 22, y = 1.03)\n",
    "plt.legend(fontsize=20)"
   ]
  },
  {
   "cell_type": "code",
   "execution_count": null,
   "id": "a8f526df",
   "metadata": {},
   "outputs": [],
   "source": []
  }
 ],
 "metadata": {
  "kernelspec": {
   "display_name": "Python 3 (ipykernel)",
   "language": "python",
   "name": "python3"
  },
  "language_info": {
   "codemirror_mode": {
    "name": "ipython",
    "version": 3
   },
   "file_extension": ".py",
   "mimetype": "text/x-python",
   "name": "python",
   "nbconvert_exporter": "python",
   "pygments_lexer": "ipython3",
   "version": "3.9.7"
  }
 },
 "nbformat": 4,
 "nbformat_minor": 5
}
